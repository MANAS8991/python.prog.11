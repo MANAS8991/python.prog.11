{
 "cells": [
  {
   "cell_type": "markdown",
   "id": "0a0cdcdd",
   "metadata": {},
   "source": [
    "# 1. Write a Python program to find words which are greater than given length k?"
   ]
  },
  {
   "cell_type": "code",
   "execution_count": 1,
   "id": "33293bea",
   "metadata": {},
   "outputs": [
    {
     "name": "stdout",
     "output_type": "stream",
     "text": [
      "Words longer than 5 characters: ['banana', 'orange', 'strawberry']\n"
     ]
    }
   ],
   "source": [
    "def find_long_words(words, k):\n",
    "    long_words = [word for word in words if len(word) > k]\n",
    "    return long_words\n",
    "\n",
    "# Example usage\n",
    "word_list = [\"apple\", \"banana\", \"orange\", \"kiwi\", \"strawberry\"]\n",
    "length = 5\n",
    "\n",
    "result = find_long_words(word_list, length)\n",
    "print(f\"Words longer than {length} characters: {result}\")\n"
   ]
  },
  {
   "cell_type": "markdown",
   "id": "c98d6328",
   "metadata": {},
   "source": [
    "# 2. Write a Python program for removing i-th character from a string?"
   ]
  },
  {
   "cell_type": "code",
   "execution_count": 2,
   "id": "0262aaf5",
   "metadata": {},
   "outputs": [
    {
     "name": "stdout",
     "output_type": "stream",
     "text": [
      "Original string: Hello, World!\n",
      "Modified string: Hello, orld!\n"
     ]
    }
   ],
   "source": [
    "def remove_char(string, i):\n",
    "    if i < 0 or i >= len(string):\n",
    "        return string\n",
    "\n",
    "    new_string = string[:i] + string[i+1:]\n",
    "    return new_string\n",
    "\n",
    "# Example usage\n",
    "input_string = \"Hello, World!\"\n",
    "index = 7\n",
    "\n",
    "result = remove_char(input_string, index)\n",
    "print(\"Original string:\", input_string)\n",
    "print(\"Modified string:\", result)\n"
   ]
  },
  {
   "cell_type": "markdown",
   "id": "5ecd4da7",
   "metadata": {},
   "source": [
    "# 3. Write a Python program to split and join a string?"
   ]
  },
  {
   "cell_type": "code",
   "execution_count": 3,
   "id": "f7306380",
   "metadata": {},
   "outputs": [
    {
     "name": "stdout",
     "output_type": "stream",
     "text": [
      "Original string: Hello,World!This,is,a,string.\n",
      "Modified string: Hello World!This is a string.\n"
     ]
    }
   ],
   "source": [
    "def split_and_join(string, separator):\n",
    "    # Split the string into a list of substrings based on the separator\n",
    "    words = string.split(separator)\n",
    "    \n",
    "    # Join the list of substrings using a space as the separator\n",
    "    new_string = ' '.join(words)\n",
    "    \n",
    "    return new_string\n",
    "\n",
    "# Example usage\n",
    "input_string = \"Hello,World!This,is,a,string.\"\n",
    "separator = \",\"\n",
    "    \n",
    "result = split_and_join(input_string, separator)\n",
    "print(\"Original string:\", input_string)\n",
    "print(\"Modified string:\", result)\n"
   ]
  },
  {
   "cell_type": "markdown",
   "id": "af300cd1",
   "metadata": {},
   "source": [
    "# 4. Write a Python to check if a given string is binary string or not?"
   ]
  },
  {
   "cell_type": "code",
   "execution_count": 4,
   "id": "7c03b080",
   "metadata": {},
   "outputs": [
    {
     "name": "stdout",
     "output_type": "stream",
     "text": [
      "Input string: 101010\n",
      "The string is a binary string.\n"
     ]
    }
   ],
   "source": [
    "import re\n",
    "\n",
    "def is_binary_string(string):\n",
    "    # Define a regular expression pattern for binary strings\n",
    "    pattern = '^[01]+$'\n",
    "    \n",
    "    # Use the re.match() function to check if the string matches the pattern\n",
    "    match = re.match(pattern, string)\n",
    "    \n",
    "    # Return True if the string is a binary string, False otherwise\n",
    "    return match is not None\n",
    "\n",
    "# Example usage\n",
    "input_string = \"101010\"\n",
    "result = is_binary_string(input_string)\n",
    "\n",
    "print(\"Input string:\", input_string)\n",
    "if result:\n",
    "    print(\"The string is a binary string.\")\n",
    "else:\n",
    "    print(\"The string is not a binary string.\")\n"
   ]
  },
  {
   "cell_type": "markdown",
   "id": "1015f06b",
   "metadata": {},
   "source": [
    "# 5. Write a Python program to find uncommon words from two Strings?"
   ]
  },
  {
   "cell_type": "code",
   "execution_count": 5,
   "id": "61de7950",
   "metadata": {},
   "outputs": [
    {
     "name": "stdout",
     "output_type": "stream",
     "text": [
      "String 1: Hello world! This is a string.\n",
      "String 2: This is another string.\n",
      "Uncommon words: {'another', 'world!', 'a', 'Hello'}\n"
     ]
    }
   ],
   "source": [
    "def find_uncommon_words(string1, string2):\n",
    "    # Split the strings into words\n",
    "    words1 = string1.split()\n",
    "    words2 = string2.split()\n",
    "\n",
    "    # Create sets of unique words\n",
    "    unique_words1 = set(words1)\n",
    "    unique_words2 = set(words2)\n",
    "\n",
    "    # Find uncommon words by taking the symmetric difference of the two sets\n",
    "    uncommon_words = unique_words1.symmetric_difference(unique_words2)\n",
    "\n",
    "    return uncommon_words\n",
    "\n",
    "# Example usage\n",
    "string1 = \"Hello world! This is a string.\"\n",
    "string2 = \"This is another string.\"\n",
    "\n",
    "uncommon_words = find_uncommon_words(string1, string2)\n",
    "\n",
    "print(\"String 1:\", string1)\n",
    "print(\"String 2:\", string2)\n",
    "print(\"Uncommon words:\", uncommon_words)\n"
   ]
  },
  {
   "cell_type": "markdown",
   "id": "368d1538",
   "metadata": {},
   "source": [
    "# 6. Write a Python to find all duplicate characters in string?"
   ]
  },
  {
   "cell_type": "code",
   "execution_count": 6,
   "id": "0b661250",
   "metadata": {},
   "outputs": [
    {
     "name": "stdout",
     "output_type": "stream",
     "text": [
      "String: Hello, World!\n",
      "Duplicate characters: {'l', 'o'}\n"
     ]
    }
   ],
   "source": [
    "def find_duplicate_characters(string):\n",
    "    # Create an empty set to store duplicate characters\n",
    "    duplicates = set()\n",
    "\n",
    "    # Create an empty set to store seen characters\n",
    "    seen = set()\n",
    "\n",
    "    # Iterate over each character in the string\n",
    "    for char in string:\n",
    "        # Check if the character has been seen before\n",
    "        if char in seen:\n",
    "            # Add the character to the duplicates set\n",
    "            duplicates.add(char)\n",
    "        else:\n",
    "            # Add the character to the seen set\n",
    "            seen.add(char)\n",
    "\n",
    "    return duplicates\n",
    "\n",
    "# Example usage\n",
    "string = \"Hello, World!\"\n",
    "\n",
    "duplicate_chars = find_duplicate_characters(string)\n",
    "\n",
    "print(\"String:\", string)\n",
    "print(\"Duplicate characters:\", duplicate_chars)\n"
   ]
  },
  {
   "cell_type": "markdown",
   "id": "8aa882da",
   "metadata": {},
   "source": [
    "# 7. Write a Python Program to check if a string contains any special character?"
   ]
  },
  {
   "cell_type": "code",
   "execution_count": 7,
   "id": "30c003f4",
   "metadata": {},
   "outputs": [
    {
     "name": "stdout",
     "output_type": "stream",
     "text": [
      "String: Hello, World!\n",
      "Contains special character: True\n"
     ]
    }
   ],
   "source": [
    "import re\n",
    "\n",
    "def contains_special_character(string):\n",
    "    # Regular expression pattern to match special characters\n",
    "    pattern = r'[!@#$%^&*(),.?\":{}|<>]'\n",
    "\n",
    "    # Use re.search() to find a match in the string\n",
    "    match = re.search(pattern, string)\n",
    "\n",
    "    # If a match is found, string contains a special character\n",
    "    if match:\n",
    "        return True\n",
    "    else:\n",
    "        return False\n",
    "\n",
    "# Example usage\n",
    "string = \"Hello, World!\"\n",
    "contains_special = contains_special_character(string)\n",
    "\n",
    "print(\"String:\", string)\n",
    "print(\"Contains special character:\", contains_special)\n"
   ]
  },
  {
   "cell_type": "code",
   "execution_count": null,
   "id": "37e05668",
   "metadata": {},
   "outputs": [],
   "source": []
  }
 ],
 "metadata": {
  "kernelspec": {
   "display_name": "Python 3 (ipykernel)",
   "language": "python",
   "name": "python3"
  },
  "language_info": {
   "codemirror_mode": {
    "name": "ipython",
    "version": 3
   },
   "file_extension": ".py",
   "mimetype": "text/x-python",
   "name": "python",
   "nbconvert_exporter": "python",
   "pygments_lexer": "ipython3",
   "version": "3.9.12"
  }
 },
 "nbformat": 4,
 "nbformat_minor": 5
}
